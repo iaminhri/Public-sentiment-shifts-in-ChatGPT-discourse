{
  "cells": [
    {
      "cell_type": "markdown",
      "metadata": {
        "id": "5T-Ot1KrEwQ2"
      },
      "source": [
        "# Prediction using the trained Bert model\n",
        "https://huggingface.co/anonymous/bert-finetuned-chatGPT-discourse"
      ]
    },
    {
      "cell_type": "markdown",
      "metadata": {
        "id": "KO4p41-cADMG"
      },
      "source": [
        "Note: This was used to predict the testing dataset, but later I predict the Twitter and Reddit dataset in the Bert_Training.ipynb file right after training the BERT model."
      ]
    },
    {
      "cell_type": "code",
      "execution_count": null,
      "metadata": {
        "id": "zo1gX92BOK7y"
      },
      "outputs": [],
      "source": [
        "from transformers import BertForSequenceClassification, BertTokenizer\n",
        "import torch\n",
        "import pandas as pd"
      ]
    },
    {
      "cell_type": "code",
      "execution_count": null,
      "metadata": {
        "id": "Sp0upiP3OUR4"
      },
      "outputs": [],
      "source": [
        "# Loading the fine-tuned BERT model and tokenizer\n",
        "model_name = \"anonymous/bert-finetuned-chatGPT\"\n",
        "model = BertForSequenceClassification.from_pretrained(model_name)\n",
        "tokenizer = BertTokenizer.from_pretrained(model_name)"
      ]
    },
    {
      "cell_type": "code",
      "execution_count": null,
      "metadata": {
        "id": "-_NIiNPUUWf3"
      },
      "outputs": [],
      "source": [
        "model = model.to('cuda')"
      ]
    },
    {
      "cell_type": "code",
      "execution_count": null,
      "metadata": {
        "colab": {
          "base_uri": "https://localhost:8080/"
        },
        "id": "6P7NkOmLOlL6",
        "outputId": "48eceff4-c27e-4236-fcff-914dca2bc49f"
      },
      "outputs": [
        {
          "name": "stdout",
          "output_type": "stream",
          "text": [
            "Mounted at /content/drive\n"
          ]
        }
      ],
      "source": [
        "from google.colab import drive\n",
        "drive.mount('/content/drive')"
      ]
    },
    {
      "cell_type": "code",
      "execution_count": null,
      "metadata": {
        "id": "mdukrRrbOXRR"
      },
      "outputs": [],
      "source": [
        "gpt_data = pd.read_csv('/content/drive/MyDrive/datasets/chatGPT_Vader_n_Blob_Sentiment.csv')"
      ]
    },
    {
      "cell_type": "code",
      "execution_count": null,
      "metadata": {
        "colab": {
          "base_uri": "https://localhost:8080/",
          "height": 206
        },
        "id": "1Qk5XGSeOssQ",
        "outputId": "47850490-a43c-4979-b5b1-1fd290d7e4a9"
      },
      "outputs": [
        {
          "data": {
            "application/vnd.google.colaboratory.intrinsic+json": {
              "type": "dataframe",
              "variable_name": "gpt_data"
            },
            "text/html": [
              "\n",
              "  <div id=\"df-001a6f69-c7fd-4862-8738-65d735f66611\" class=\"colab-df-container\">\n",
              "    <div>\n",
              "<style scoped>\n",
              "    .dataframe tbody tr th:only-of-type {\n",
              "        vertical-align: middle;\n",
              "    }\n",
              "\n",
              "    .dataframe tbody tr th {\n",
              "        vertical-align: top;\n",
              "    }\n",
              "\n",
              "    .dataframe thead th {\n",
              "        text-align: right;\n",
              "    }\n",
              "</style>\n",
              "<table border=\"1\" class=\"dataframe\">\n",
              "  <thead>\n",
              "    <tr style=\"text-align: right;\">\n",
              "      <th></th>\n",
              "      <th>Processed_Tweets</th>\n",
              "      <th>Vader_Polarity</th>\n",
              "      <th>Blob_Polarity</th>\n",
              "    </tr>\n",
              "  </thead>\n",
              "  <tbody>\n",
              "    <tr>\n",
              "      <th>0</th>\n",
              "      <td>openais gpt4 just got supercharged ai chatgpt</td>\n",
              "      <td>0.0000</td>\n",
              "      <td>0.0</td>\n",
              "    </tr>\n",
              "    <tr>\n",
              "      <th>1</th>\n",
              "      <td>classical art is struggling not changed the fa...</td>\n",
              "      <td>-0.2500</td>\n",
              "      <td>0.2</td>\n",
              "    </tr>\n",
              "    <tr>\n",
              "      <th>2</th>\n",
              "      <td>alibaba invites businesses to trial chatgpt ri...</td>\n",
              "      <td>0.0000</td>\n",
              "      <td>0.0</td>\n",
              "    </tr>\n",
              "    <tr>\n",
              "      <th>3</th>\n",
              "      <td>trying to stop students from using ai and chat...</td>\n",
              "      <td>-0.2263</td>\n",
              "      <td>0.1</td>\n",
              "    </tr>\n",
              "    <tr>\n",
              "      <th>4</th>\n",
              "      <td>i asked chatgpts ai chatbot how can i earn cry...</td>\n",
              "      <td>0.0000</td>\n",
              "      <td>0.0</td>\n",
              "    </tr>\n",
              "  </tbody>\n",
              "</table>\n",
              "</div>\n",
              "    <div class=\"colab-df-buttons\">\n",
              "\n",
              "  <div class=\"colab-df-container\">\n",
              "    <button class=\"colab-df-convert\" onclick=\"convertToInteractive('df-001a6f69-c7fd-4862-8738-65d735f66611')\"\n",
              "            title=\"Convert this dataframe to an interactive table.\"\n",
              "            style=\"display:none;\">\n",
              "\n",
              "  <svg xmlns=\"http://www.w3.org/2000/svg\" height=\"24px\" viewBox=\"0 -960 960 960\">\n",
              "    <path d=\"M120-120v-720h720v720H120Zm60-500h600v-160H180v160Zm220 220h160v-160H400v160Zm0 220h160v-160H400v160ZM180-400h160v-160H180v160Zm440 0h160v-160H620v160ZM180-180h160v-160H180v160Zm440 0h160v-160H620v160Z\"/>\n",
              "  </svg>\n",
              "    </button>\n",
              "\n",
              "  <style>\n",
              "    .colab-df-container {\n",
              "      display:flex;\n",
              "      gap: 12px;\n",
              "    }\n",
              "\n",
              "    .colab-df-convert {\n",
              "      background-color: #E8F0FE;\n",
              "      border: none;\n",
              "      border-radius: 50%;\n",
              "      cursor: pointer;\n",
              "      display: none;\n",
              "      fill: #1967D2;\n",
              "      height: 32px;\n",
              "      padding: 0 0 0 0;\n",
              "      width: 32px;\n",
              "    }\n",
              "\n",
              "    .colab-df-convert:hover {\n",
              "      background-color: #E2EBFA;\n",
              "      box-shadow: 0px 1px 2px rgba(60, 64, 67, 0.3), 0px 1px 3px 1px rgba(60, 64, 67, 0.15);\n",
              "      fill: #174EA6;\n",
              "    }\n",
              "\n",
              "    .colab-df-buttons div {\n",
              "      margin-bottom: 4px;\n",
              "    }\n",
              "\n",
              "    [theme=dark] .colab-df-convert {\n",
              "      background-color: #3B4455;\n",
              "      fill: #D2E3FC;\n",
              "    }\n",
              "\n",
              "    [theme=dark] .colab-df-convert:hover {\n",
              "      background-color: #434B5C;\n",
              "      box-shadow: 0px 1px 3px 1px rgba(0, 0, 0, 0.15);\n",
              "      filter: drop-shadow(0px 1px 2px rgba(0, 0, 0, 0.3));\n",
              "      fill: #FFFFFF;\n",
              "    }\n",
              "  </style>\n",
              "\n",
              "    <script>\n",
              "      const buttonEl =\n",
              "        document.querySelector('#df-001a6f69-c7fd-4862-8738-65d735f66611 button.colab-df-convert');\n",
              "      buttonEl.style.display =\n",
              "        google.colab.kernel.accessAllowed ? 'block' : 'none';\n",
              "\n",
              "      async function convertToInteractive(key) {\n",
              "        const element = document.querySelector('#df-001a6f69-c7fd-4862-8738-65d735f66611');\n",
              "        const dataTable =\n",
              "          await google.colab.kernel.invokeFunction('convertToInteractive',\n",
              "                                                    [key], {});\n",
              "        if (!dataTable) return;\n",
              "\n",
              "        const docLinkHtml = 'Like what you see? Visit the ' +\n",
              "          '<a target=\"_blank\" href=https://colab.research.google.com/notebooks/data_table.ipynb>data table notebook</a>'\n",
              "          + ' to learn more about interactive tables.';\n",
              "        element.innerHTML = '';\n",
              "        dataTable['output_type'] = 'display_data';\n",
              "        await google.colab.output.renderOutput(dataTable, element);\n",
              "        const docLink = document.createElement('div');\n",
              "        docLink.innerHTML = docLinkHtml;\n",
              "        element.appendChild(docLink);\n",
              "      }\n",
              "    </script>\n",
              "  </div>\n",
              "\n",
              "\n",
              "<div id=\"df-98c4940d-1f89-4d2c-9ee1-ce3a9d2ac4a2\">\n",
              "  <button class=\"colab-df-quickchart\" onclick=\"quickchart('df-98c4940d-1f89-4d2c-9ee1-ce3a9d2ac4a2')\"\n",
              "            title=\"Suggest charts\"\n",
              "            style=\"display:none;\">\n",
              "\n",
              "<svg xmlns=\"http://www.w3.org/2000/svg\" height=\"24px\"viewBox=\"0 0 24 24\"\n",
              "     width=\"24px\">\n",
              "    <g>\n",
              "        <path d=\"M19 3H5c-1.1 0-2 .9-2 2v14c0 1.1.9 2 2 2h14c1.1 0 2-.9 2-2V5c0-1.1-.9-2-2-2zM9 17H7v-7h2v7zm4 0h-2V7h2v10zm4 0h-2v-4h2v4z\"/>\n",
              "    </g>\n",
              "</svg>\n",
              "  </button>\n",
              "\n",
              "<style>\n",
              "  .colab-df-quickchart {\n",
              "      --bg-color: #E8F0FE;\n",
              "      --fill-color: #1967D2;\n",
              "      --hover-bg-color: #E2EBFA;\n",
              "      --hover-fill-color: #174EA6;\n",
              "      --disabled-fill-color: #AAA;\n",
              "      --disabled-bg-color: #DDD;\n",
              "  }\n",
              "\n",
              "  [theme=dark] .colab-df-quickchart {\n",
              "      --bg-color: #3B4455;\n",
              "      --fill-color: #D2E3FC;\n",
              "      --hover-bg-color: #434B5C;\n",
              "      --hover-fill-color: #FFFFFF;\n",
              "      --disabled-bg-color: #3B4455;\n",
              "      --disabled-fill-color: #666;\n",
              "  }\n",
              "\n",
              "  .colab-df-quickchart {\n",
              "    background-color: var(--bg-color);\n",
              "    border: none;\n",
              "    border-radius: 50%;\n",
              "    cursor: pointer;\n",
              "    display: none;\n",
              "    fill: var(--fill-color);\n",
              "    height: 32px;\n",
              "    padding: 0;\n",
              "    width: 32px;\n",
              "  }\n",
              "\n",
              "  .colab-df-quickchart:hover {\n",
              "    background-color: var(--hover-bg-color);\n",
              "    box-shadow: 0 1px 2px rgba(60, 64, 67, 0.3), 0 1px 3px 1px rgba(60, 64, 67, 0.15);\n",
              "    fill: var(--button-hover-fill-color);\n",
              "  }\n",
              "\n",
              "  .colab-df-quickchart-complete:disabled,\n",
              "  .colab-df-quickchart-complete:disabled:hover {\n",
              "    background-color: var(--disabled-bg-color);\n",
              "    fill: var(--disabled-fill-color);\n",
              "    box-shadow: none;\n",
              "  }\n",
              "\n",
              "  .colab-df-spinner {\n",
              "    border: 2px solid var(--fill-color);\n",
              "    border-color: transparent;\n",
              "    border-bottom-color: var(--fill-color);\n",
              "    animation:\n",
              "      spin 1s steps(1) infinite;\n",
              "  }\n",
              "\n",
              "  @keyframes spin {\n",
              "    0% {\n",
              "      border-color: transparent;\n",
              "      border-bottom-color: var(--fill-color);\n",
              "      border-left-color: var(--fill-color);\n",
              "    }\n",
              "    20% {\n",
              "      border-color: transparent;\n",
              "      border-left-color: var(--fill-color);\n",
              "      border-top-color: var(--fill-color);\n",
              "    }\n",
              "    30% {\n",
              "      border-color: transparent;\n",
              "      border-left-color: var(--fill-color);\n",
              "      border-top-color: var(--fill-color);\n",
              "      border-right-color: var(--fill-color);\n",
              "    }\n",
              "    40% {\n",
              "      border-color: transparent;\n",
              "      border-right-color: var(--fill-color);\n",
              "      border-top-color: var(--fill-color);\n",
              "    }\n",
              "    60% {\n",
              "      border-color: transparent;\n",
              "      border-right-color: var(--fill-color);\n",
              "    }\n",
              "    80% {\n",
              "      border-color: transparent;\n",
              "      border-right-color: var(--fill-color);\n",
              "      border-bottom-color: var(--fill-color);\n",
              "    }\n",
              "    90% {\n",
              "      border-color: transparent;\n",
              "      border-bottom-color: var(--fill-color);\n",
              "    }\n",
              "  }\n",
              "</style>\n",
              "\n",
              "  <script>\n",
              "    async function quickchart(key) {\n",
              "      const quickchartButtonEl =\n",
              "        document.querySelector('#' + key + ' button');\n",
              "      quickchartButtonEl.disabled = true;  // To prevent multiple clicks.\n",
              "      quickchartButtonEl.classList.add('colab-df-spinner');\n",
              "      try {\n",
              "        const charts = await google.colab.kernel.invokeFunction(\n",
              "            'suggestCharts', [key], {});\n",
              "      } catch (error) {\n",
              "        console.error('Error during call to suggestCharts:', error);\n",
              "      }\n",
              "      quickchartButtonEl.classList.remove('colab-df-spinner');\n",
              "      quickchartButtonEl.classList.add('colab-df-quickchart-complete');\n",
              "    }\n",
              "    (() => {\n",
              "      let quickchartButtonEl =\n",
              "        document.querySelector('#df-98c4940d-1f89-4d2c-9ee1-ce3a9d2ac4a2 button');\n",
              "      quickchartButtonEl.style.display =\n",
              "        google.colab.kernel.accessAllowed ? 'block' : 'none';\n",
              "    })();\n",
              "  </script>\n",
              "</div>\n",
              "\n",
              "    </div>\n",
              "  </div>\n"
            ],
            "text/plain": [
              "                                    Processed_Tweets  Vader_Polarity  \\\n",
              "0     openais gpt4 just got supercharged ai chatgpt           0.0000   \n",
              "1  classical art is struggling not changed the fa...         -0.2500   \n",
              "2  alibaba invites businesses to trial chatgpt ri...          0.0000   \n",
              "3  trying to stop students from using ai and chat...         -0.2263   \n",
              "4  i asked chatgpts ai chatbot how can i earn cry...          0.0000   \n",
              "\n",
              "   Blob_Polarity  \n",
              "0            0.0  \n",
              "1            0.2  \n",
              "2            0.0  \n",
              "3            0.1  \n",
              "4            0.0  "
            ]
          },
          "execution_count": 6,
          "metadata": {},
          "output_type": "execute_result"
        }
      ],
      "source": [
        "gpt_data.head()"
      ]
    },
    {
      "cell_type": "code",
      "execution_count": null,
      "metadata": {
        "id": "Xgmzt3e0Otkv"
      },
      "outputs": [],
      "source": [
        "tokenized_texts = tokenizer(list(gpt_data['Processed_Tweets']), padding=True, truncation=True, max_length=512, return_tensors='pt')"
      ]
    },
    {
      "cell_type": "code",
      "execution_count": null,
      "metadata": {
        "colab": {
          "base_uri": "https://localhost:8080/"
        },
        "id": "na49nZ0MO97C",
        "outputId": "12e71897-e30a-4d66-ca47-8cf6f2935a1b"
      },
      "outputs": [
        {
          "name": "stderr",
          "output_type": "stream",
          "text": [
            "100%|██████████| 363/363 [48:31<00:00,  8.02s/it]\n"
          ]
        }
      ],
      "source": [
        "from tqdm import tqdm\n",
        "\n",
        "# chunk size prediction\n",
        "chunk_size = 1000  # for low memory usage.\n",
        "\n",
        "# Initializing an empty list to store predicted sentiments\n",
        "predicted_sentiments = []\n",
        "\n",
        "# Iterating over the input data in chunks\n",
        "for i in tqdm(range(0, len(tokenized_texts['input_ids']), chunk_size)):\n",
        "    # Extracting a chunk of input tensors\n",
        "    input_ids_chunk = tokenized_texts['input_ids'][i:i+chunk_size].to('cuda')\n",
        "    attention_mask_chunk = tokenized_texts['attention_mask'][i:i+chunk_size].to('cuda')\n",
        "\n",
        "    # Passing the chunked data through the model to get predictions\n",
        "    with torch.no_grad():\n",
        "        outputs = model(input_ids=input_ids_chunk, attention_mask=attention_mask_chunk)\n",
        "\n",
        "    # interpreting the predictions to determine the sentiment of each tweet in the chunk data\n",
        "    predicted_labels_chunk = torch.argmax(outputs.logits, dim=1).tolist()\n",
        "    sentiment_mapping = {2: 'Negative', 0: 'Neutral', 1: 'Positive'}\n",
        "    predicted_sentiments.extend([sentiment_mapping[label] for label in predicted_labels_chunk])\n"
      ]
    },
    {
      "cell_type": "code",
      "execution_count": null,
      "metadata": {
        "id": "1S_UcWP8PA4K"
      },
      "outputs": [],
      "source": [
        "gpt_data['predicted_labels'] = predicted_sentiments # adding the predicted labels to the dataset"
      ]
    },
    {
      "cell_type": "code",
      "execution_count": null,
      "metadata": {
        "colab": {
          "base_uri": "https://localhost:8080/"
        },
        "id": "23lwxhFCPCM4",
        "outputId": "61e5fce4-f3f2-42c4-83f8-0d050b8c017e"
      },
      "outputs": [
        {
          "name": "stdout",
          "output_type": "stream",
          "text": [
            "                                         Processed_Tweets predicted_labels\n",
            "0          openais gpt4 just got supercharged ai chatgpt          Negative\n",
            "1       classical art is struggling not changed the fa...         Negative\n",
            "2       alibaba invites businesses to trial chatgpt ri...         Negative\n",
            "3       trying to stop students from using ai and chat...         Negative\n",
            "4       i asked chatgpts ai chatbot how can i earn cry...         Negative\n",
            "...                                                   ...              ...\n",
            "362561  rt jordanbpeterson wtf seriously a very seriou...         Negative\n",
            "362562  is googles updated bard chatgpts strongest com...          Neutral\n",
            "362563  rt itspaulai chatgpt has now a big problem goo...          Neutral\n",
            "362564  rt sama all chatgpt plus users getting browsin...         Positive\n",
            "362565  rt jordanbpeterson wtf seriously a very seriou...         Negative\n",
            "\n",
            "[362566 rows x 2 columns]\n"
          ]
        }
      ],
      "source": [
        "print(gpt_data[['Processed_Tweets', 'predicted_labels']])"
      ]
    },
    {
      "cell_type": "code",
      "execution_count": null,
      "metadata": {
        "id": "eT6_tOFZLWNq"
      },
      "outputs": [],
      "source": [
        "gpt_data.to_csv('/content/drive/MyDrive/datasets/GPT_BERT_Sentiment_Prediction.csv', index=False) # exporting"
      ]
    },
    {
      "cell_type": "code",
      "execution_count": null,
      "metadata": {
        "id": "1TSKq7ISnk8l"
      },
      "outputs": [],
      "source": [
        "import matplotlib.pyplot as plt\n",
        "\n",
        "sentiment_counts = gpt_data['predicted_labels'].value_counts() # count of sentiments\n",
        "\n",
        "# percentage formula\n",
        "total_tweets = sentiment_counts.sum()\n",
        "percentages = (sentiment_counts / total_tweets) * 100\n",
        "\n",
        "# Plotting sentiment distribution\n",
        "plt.figure(figsize=(8, 6))\n",
        "bars = sentiment_counts.plot(kind='bar', color='skyblue')\n",
        "plt.title('Sentiment Distribution of Labeled Tweets Using BERT')\n",
        "plt.xlabel('Sentiment')\n",
        "plt.ylabel('Count of Tweets')\n",
        "\n",
        "# Adding percentage labels on top of each bar\n",
        "for i, count in enumerate(sentiment_counts):\n",
        "    plt.text(i, count + 1000, f'{count} ({percentages[i]:.2f}%)', ha='center')\n",
        "\n",
        "plt.xticks(rotation=0)\n",
        "plt.tight_layout()\n",
        "plt.show()"
      ]
    }
  ],
  "metadata": {
    "accelerator": "GPU",
    "colab": {
      "gpuType": "L4",
      "machine_shape": "hm",
      "provenance": []
    },
    "kernelspec": {
      "display_name": "Python 3",
      "name": "python3"
    },
    "language_info": {
      "name": "python"
    }
  },
  "nbformat": 4,
  "nbformat_minor": 0
}
